{
 "cells": [
  {
   "cell_type": "code",
   "execution_count": 1,
   "metadata": {},
   "outputs": [
    {
     "data": {
      "image/png": "[encoded data removed]",
      "text/html": [
       "<div style=\"vertical-align: middle;\"><strong>Chaetodon_sedentarius</strong> </div><div class=\"cmap\"><img alt=\"Chaetodon_sedentarius colormap\" title=\"Chaetodon_sedentarius\" style=\"border: 1px solid #555;\" src=\"data:image/png;base64,iVBORw0KGgoAAAANSUhEUgAAAgAAAABACAYAAABsv8+/AAAAJHRFWHRUaXRsZQBDaGFldG9kb25fc2VkZW50YXJpdXMgY29sb3JtYXAojfuEAAAAKnRFWHREZXNjcmlwdGlvbgBDaGFldG9kb25fc2VkZW50YXJpdXMgY29sb3JtYXA/dwERAAAAMHRFWHRBdXRob3IATWF0cGxvdGxpYiB2My45LjAsIGh0dHBzOi8vbWF0cGxvdGxpYi5vcmfx/+MOAAAAMnRFWHRTb2Z0d2FyZQBNYXRwbG90bGliIHYzLjkuMCwgaHR0cHM6Ly9tYXRwbG90bGliLm9yZ99ZfCkAAAFKSURBVHic7dYxDgFAAABBdCohEo1HaV2v8zKf5AOndZKdecGWu32M8d7wl8b9tTqBievxuTqBif3ptjqBifPhsjqBL3arAwCA3zMAABBkAAAgyAAAQJABAIAgAwAAQQYAAIIMAAAEGQAACDIAABBkAAAgyAAAQJABAIAgAwAAQQYAAIIMAAAEGQAACDIAABBkAAAgyAAAQJABAIAgAwAAQQYAAIIMAAAEGQAACDIAABBkAAAgyAAAQJABAIAgAwAAQQYAAIIMAAAEGQAACDIAABBkAAAgyAAAQJABAIAgAwAAQQYAAIIMAAAEGQAACDIAABBkAAAgyAAAQJABAIAgAwAAQQYAAIIMAAAEGQAACDIAABBkAAAgyAAAQJABAIAgAwAAQQYAAIIMAAAEGQAACDIAABBkAAAgyAAAQJABAIAgAwAAQQYAAII+NU8FM7FnIIUAAAAASUVORK5CYII=\"></div><div style=\"vertical-align: middle; max-width: 514px; display: flex; justify-content: space-between;\"><div style=\"float: left;\"><div title=\"#655a5aff\" style=\"display: inline-block; width: 1em; height: 1em; margin: 0; vertical-align: middle; border: 1px solid #555; background-color: #655a5aff;\"></div> under</div><div style=\"margin: 0 auto; display: inline-block;\">bad <div title=\"#00000000\" style=\"display: inline-block; width: 1em; height: 1em; margin: 0; vertical-align: middle; border: 1px solid #555; background-color: #00000000;\"></div></div><div style=\"float: right;\">over <div title=\"#f8e5d7ff\" style=\"display: inline-block; width: 1em; height: 1em; margin: 0; vertical-align: middle; border: 1px solid #555; background-color: #f8e5d7ff;\"></div></div>"
      ],
      "text/plain": [
       "<matplotlib.colors.ListedColormap at 0x10699c520>"
      ]
     },
     "execution_count": 1,
     "metadata": {},
     "output_type": "execute_result"
    }
   ],
   "source": [
    "from pypalettes import load_cmap\n",
    "\n",
    "cmap = load_cmap('Chaetodon_sedentarius')\n",
    "cmap"
   ]
  },
  {
   "cell_type": "code",
   "execution_count": 3,
   "metadata": {},
   "outputs": [
    {
     "data": {
      "image/png": "[encoded data removed]",
      "text/html": [
       "<div style=\"vertical-align: middle;\"><strong>Chaetodon_sedentarius</strong> </div><div class=\"cmap\"><img alt=\"Chaetodon_sedentarius colormap\" title=\"Chaetodon_sedentarius\" style=\"border: 1px solid #555;\" src=\"data:image/png;base64,iVBORw0KGgoAAAANSUhEUgAAAgAAAABACAYAAABsv8+/AAAAJHRFWHRUaXRsZQBDaGFldG9kb25fc2VkZW50YXJpdXMgY29sb3JtYXAojfuEAAAAKnRFWHREZXNjcmlwdGlvbgBDaGFldG9kb25fc2VkZW50YXJpdXMgY29sb3JtYXA/dwERAAAAMHRFWHRBdXRob3IATWF0cGxvdGxpYiB2My45LjAsIGh0dHBzOi8vbWF0cGxvdGxpYi5vcmfx/+MOAAAAMnRFWHRTb2Z0d2FyZQBNYXRwbG90bGliIHYzLjkuMCwgaHR0cHM6Ly9tYXRwbG90bGliLm9yZ99ZfCkAAAIVSURBVHic7dYxcqQwFEVRiWU6n/3vwHbQDF189bfs8tQk75zAGCFAqDq488/b28cYY8z5Ph7HjzHGGMdRzs/jrOPHOX7e/5xXxq/zv897v81rn1/Gfz7v6/XVdXx3fdf5Zn37eeV9zb62+13W3e532a/6vDGO8zjPv+f5PM7zeZv3vF7m//K+a/6s42V9y/XuvvL+2Xxnc/3b6573+d26dt9bv3O77u0+77533q7X38Forq/3lfub6+v+lmNzfd3ff3Xf6+v/e1+292/2rd3Xzfc/33f3/F2O+/xlYjN+Pf/1eP+eMl5uW8avZdTxsq71n3I2Xx3W+e1zfvYd7X4u+9asd/72Ox7nxwAA4ggAAAgkAAAgkAAAgEACAAACCQAACCQAACCQAACAQAIAAAIJAAAIJAAAIJAAAIBAAgAAAgkAAAgkAAAgkAAAgEACAAACCQAACCQAACCQAACAQAIAAAIJAAAIJAAAIJAAAIBAAgAAAgkAAAgkAAAgkAAAgEACAAACCQAACCQAACCQAACAQAIAAAIJAAAIJAAAIJAAAIBAAgAAAgkAAAgkAAAgkAAAgEACAAACCQAACCQAACCQAACAQAIAAAIJAAAIJAAAIJAAAIBAAgAAAgkAAAgkAAAgkAAAgEACAAACCQAACCQAACCQAACAQAIAAAIJAAAIJAAAIJAAAIBAAgAAAgkAAAgkAAAg0CdGPEQztuDTjAAAAABJRU5ErkJggg==\"></div><div style=\"vertical-align: middle; max-width: 514px; display: flex; justify-content: space-between;\"><div style=\"float: left;\"><div title=\"#655a5aff\" style=\"display: inline-block; width: 1em; height: 1em; margin: 0; vertical-align: middle; border: 1px solid #555; background-color: #655a5aff;\"></div> under</div><div style=\"margin: 0 auto; display: inline-block;\">bad <div title=\"#00000000\" style=\"display: inline-block; width: 1em; height: 1em; margin: 0; vertical-align: middle; border: 1px solid #555; background-color: #00000000;\"></div></div><div style=\"float: right;\">over <div title=\"#f8e5d7ff\" style=\"display: inline-block; width: 1em; height: 1em; margin: 0; vertical-align: middle; border: 1px solid #555; background-color: #f8e5d7ff;\"></div></div>"
      ],
      "text/plain": [
       "<matplotlib.colors.LinearSegmentedColormap at 0x1687aec20>"
      ]
     },
     "execution_count": 3,
     "metadata": {},
     "output_type": "execute_result"
    }
   ],
   "source": [
    "from pypalettes import load_cmap\n",
    "\n",
    "cmap = load_cmap('Chaetodon_sedentarius', type='continuous')\n",
    "cmap"
   ]
  },
  {
   "cell_type": "code",
   "execution_count": 36,
   "metadata": {},
   "outputs": [
    {
     "data": {
      "image/png": "[encoded data removed]",
      "text/html": [
       "<div style=\"vertical-align: middle;\"><strong>brown_material</strong> </div><div class=\"cmap\"><img alt=\"brown_material colormap\" title=\"brown_material\" style=\"border: 1px solid #555;\" src=\"data:image/png;base64,iVBORw0KGgoAAAANSUhEUgAAAgAAAABACAYAAABsv8+/AAAAHXRFWHRUaXRsZQBicm93bl9tYXRlcmlhbCBjb2xvcm1hcPa1LaMAAAAjdEVYdERlc2NyaXB0aW9uAGJyb3duX21hdGVyaWFsIGNvbG9ybWFw8J7IUgAAADB0RVh0QXV0aG9yAE1hdHBsb3RsaWIgdjMuOS4wLCBodHRwczovL21hdHBsb3RsaWIub3Jn8f/jDgAAADJ0RVh0U29mdHdhcmUATWF0cGxvdGxpYiB2My45LjAsIGh0dHBzOi8vbWF0cGxvdGxpYi5vcmffWXwpAAABa0lEQVR4nO3WS0pDURQAQXX/O1Qigs8PBhLxaXCkm7h4wK5aQQ/7+vT2+nP1j7w83E8nLLMd7qYTltkOt9MJyxyfHqcTljk+b9MJy+yX7+mEZc7713TCMu/7ZTphmfPH53TCUjfTAQDA3zMAABBkAAAgyAAAQJABAIAgAwAAQQYAAIIMAAAEGQAACDIAABBkAAAgyAAAQJABAIAgAwAAQQYAAIIMAAAEGQAACDIAABBkAAAgyAAAQJABAIAgAwAAQQYAAIIMAAAEGQAACDIAABBkAAAgyAAAQJABAIAgAwAAQQYAAIIMAAAEGQAACDIAABBkAAAgyAAAQJABAIAgAwAAQQYAAIIMAAAEGQAACDIAABBkAAAgyAAAQJABAIAgAwAAQQYAAIIMAAAEGQAACDIAABBkAAAgyAAAQJABAIAgAwAAQQYAAIIMAAAEGQAACDIAABBkAAAgyAAAQJABAIAgAwAAQQYAAIJ+AY4OHQdEnbsDAAAAAElFTkSuQmCC\"></div><div style=\"vertical-align: middle; max-width: 514px; display: flex; justify-content: space-between;\"><div style=\"float: left;\"><div title=\"#efebe9ff\" style=\"display: inline-block; width: 1em; height: 1em; margin: 0; vertical-align: middle; border: 1px solid #555; background-color: #efebe9ff;\"></div> under</div><div style=\"margin: 0 auto; display: inline-block;\">bad <div title=\"#00000000\" style=\"display: inline-block; width: 1em; height: 1em; margin: 0; vertical-align: middle; border: 1px solid #555; background-color: #00000000;\"></div></div><div style=\"float: right;\">over <div title=\"#3e2723ff\" style=\"display: inline-block; width: 1em; height: 1em; margin: 0; vertical-align: middle; border: 1px solid #555; background-color: #3e2723ff;\"></div></div>"
      ],
      "text/plain": [
       "<matplotlib.colors.ListedColormap at 0x1694a22f0>"
      ]
     },
     "execution_count": 36,
     "metadata": {},
     "output_type": "execute_result"
    }
   ],
   "source": [
    "from pypalettes import load_cmap\n",
    "\n",
    "cmap = load_cmap()\n",
    "cmap"
   ]
  },
  {
   "cell_type": "code",
   "execution_count": 39,
   "metadata": {},
   "outputs": [
    {
     "data": {
      "text/plain": [
       "'The R package: {khroma}'"
      ]
     },
     "execution_count": 39,
     "metadata": {},
     "output_type": "execute_result"
    }
   ],
   "source": [
    "from pypalettes import get_source\n",
    "\n",
    "get_source('bilbao')"
   ]
  },
  {
   "cell_type": "code",
   "execution_count": 40,
   "metadata": {},
   "outputs": [
    {
     "data": {
      "text/plain": [
       "['#7098C0FF',\n",
       " '#88C0E8FF',\n",
       " '#285880FF',\n",
       " '#B8E0F8FF',\n",
       " '#F8F8F8FF',\n",
       " '#404060FF',\n",
       " '#A8A8A8FF',\n",
       " '#C8C8D0FF',\n",
       " '#B04000FF']"
      ]
     },
     "execution_count": 40,
     "metadata": {},
     "output_type": "execute_result"
    }
   ],
   "source": [
    "from pypalettes import get_hex\n",
    "\n",
    "get_hex('pupitar')"
   ]
  },
  {
   "cell_type": "code",
   "execution_count": 42,
   "metadata": {},
   "outputs": [
    {
     "ename": "ValueError",
     "evalue": "Palette with name 'colwarm' not found. Did you mean: 'coolwarm'?\nSee available palettes at https://josephbarbierdarnal.github.io/pypalettes/",
     "output_type": "error",
     "traceback": [
      "\u001b[0;31m---------------------------------------------------------------------------\u001b[0m",
      "\u001b[0;31mValueError\u001b[0m                                Traceback (most recent call last)",
      "Cell \u001b[0;32mIn[42], line 3\u001b[0m\n\u001b[1;32m      1\u001b[0m \u001b[39mfrom\u001b[39;00m \u001b[39mpypalettes\u001b[39;00m \u001b[39mimport\u001b[39;00m load_cmap\n\u001b[0;32m----> 3\u001b[0m cmap \u001b[39m=\u001b[39m load_cmap(\u001b[39m'\u001b[39;49m\u001b[39mcolwarm\u001b[39;49m\u001b[39m'\u001b[39;49m)\n\u001b[1;32m      4\u001b[0m cmap\n",
      "File \u001b[0;32m~/Desktop/pypalettes/pypalettes/core.py:23\u001b[0m, in \u001b[0;36mload_cmap\u001b[0;34m(name, type, palettes_path)\u001b[0m\n\u001b[1;32m     21\u001b[0m \u001b[39mdef\u001b[39;00m \u001b[39mload_cmap\u001b[39m(name\u001b[39m=\u001b[39m\u001b[39m'\u001b[39m\u001b[39mrandom\u001b[39m\u001b[39m'\u001b[39m, \u001b[39mtype\u001b[39m\u001b[39m=\u001b[39m\u001b[39m'\u001b[39m\u001b[39mdiscrete\u001b[39m\u001b[39m'\u001b[39m, palettes_path\u001b[39m=\u001b[39m\u001b[39m'\u001b[39m\u001b[39mpalettes.csv\u001b[39m\u001b[39m'\u001b[39m):\n\u001b[1;32m     22\u001b[0m     palettes \u001b[39m=\u001b[39m load_palettes(palettes_path)\n\u001b[0;32m---> 23\u001b[0m     palette \u001b[39m=\u001b[39m get_palette(palettes, name)\n\u001b[1;32m     24\u001b[0m     hex_list \u001b[39m=\u001b[39m \u001b[39meval\u001b[39m(palette[\u001b[39m'\u001b[39m\u001b[39mpalette\u001b[39m\u001b[39m'\u001b[39m])\n\u001b[1;32m     26\u001b[0m     \u001b[39mif\u001b[39;00m name \u001b[39m==\u001b[39m \u001b[39m'\u001b[39m\u001b[39mrandom\u001b[39m\u001b[39m'\u001b[39m:\n",
      "File \u001b[0;32m~/Desktop/pypalettes/pypalettes/core.py:15\u001b[0m, in \u001b[0;36mget_palette\u001b[0;34m(palettes, name)\u001b[0m\n\u001b[1;32m     13\u001b[0m \u001b[39mif\u001b[39;00m name \u001b[39mnot\u001b[39;00m \u001b[39min\u001b[39;00m palettes\u001b[39m.\u001b[39mindex:\n\u001b[1;32m     14\u001b[0m     suggestions \u001b[39m=\u001b[39m get_close_matches(name, palettes\u001b[39m.\u001b[39mindex, n\u001b[39m=\u001b[39m\u001b[39m1\u001b[39m, cutoff\u001b[39m=\u001b[39m\u001b[39m0.1\u001b[39m)\n\u001b[0;32m---> 15\u001b[0m     \u001b[39mraise\u001b[39;00m \u001b[39mValueError\u001b[39;00m(\n\u001b[1;32m     16\u001b[0m         \u001b[39mf\u001b[39m\u001b[39m\"\u001b[39m\u001b[39mPalette with name \u001b[39m\u001b[39m'\u001b[39m\u001b[39m{\u001b[39;00mname\u001b[39m}\u001b[39;00m\u001b[39m'\u001b[39m\u001b[39m not found. Did you mean: \u001b[39m\u001b[39m'\u001b[39m\u001b[39m{\u001b[39;00m\u001b[39m'\u001b[39m\u001b[39m, \u001b[39m\u001b[39m'\u001b[39m\u001b[39m.\u001b[39mjoin(suggestions)\u001b[39m}\u001b[39;00m\u001b[39m'\u001b[39m\u001b[39m?\u001b[39m\u001b[39m\\n\u001b[39;00m\u001b[39m\"\u001b[39m\n\u001b[1;32m     17\u001b[0m         \u001b[39m\"\u001b[39m\u001b[39mSee available palettes at https://josephbarbierdarnal.github.io/pypalettes/\u001b[39m\u001b[39m\"\u001b[39m\n\u001b[1;32m     18\u001b[0m     )\n\u001b[1;32m     19\u001b[0m \u001b[39mreturn\u001b[39;00m palettes\u001b[39m.\u001b[39mloc[name]\n",
      "\u001b[0;31mValueError\u001b[0m: Palette with name 'colwarm' not found. Did you mean: 'coolwarm'?\nSee available palettes at https://josephbarbierdarnal.github.io/pypalettes/"
     ]
    }
   ],
   "source": [
    "from pypalettes import load_cmap\n",
    "\n",
    "cmap = load_cmap('colwarm')\n",
    "cmap"
   ]
  },
  {
   "cell_type": "code",
   "execution_count": 41,
   "metadata": {},
   "outputs": [
    {
     "data": {
      "text/plain": [
       "[(255, 153, 51),\n",
       " (194, 72, 65),\n",
       " (255, 255, 51),\n",
       " (139, 91, 69),\n",
       " (135, 175, 209),\n",
       " (238, 176, 90),\n",
       " (219, 197, 160)]"
      ]
     },
     "execution_count": 41,
     "metadata": {},
     "output_type": "execute_result"
    }
   ],
   "source": [
    "from pypalettes import get_rgb\n",
    "\n",
    "get_rgb('AirNomads')"
   ]
  },
  {
   "cell_type": "code",
   "execution_count": 2,
   "metadata": {},
   "outputs": [
    {
     "data": {
      "image/png": "[encoded data removed]",
      "text/plain": [
       "<Figure size 640x480 with 2 Axes>"
      ]
     },
     "metadata": {},
     "output_type": "display_data"
    }
   ],
   "source": [
    "import matplotlib.pyplot as plt\n",
    "import seaborn as sns\n",
    "from pypalettes import load_cmap\n",
    "import numpy as np\n",
    "\n",
    "data = np.random.rand(10, 12)\n",
    "\n",
    "cmap = load_cmap('Anemone')\n",
    "\n",
    "sns.heatmap(data, cmap=cmap)\n",
    "plt.savefig('images/heatmap.png', dpi=300, bbox_inches='tight')\n",
    "plt.show()"
   ]
  }
 ],
 "metadata": {
  "kernelspec": {
   "display_name": "venv",
   "language": "python",
   "name": "python3"
  },
  "language_info": {
   "codemirror_mode": {
    "name": "ipython",
    "version": 3
   },
   "file_extension": ".py",
   "mimetype": "text/x-python",
   "name": "python",
   "nbconvert_exporter": "python",
   "pygments_lexer": "ipython3",
   "version": "3.10.13"
  },
  "orig_nbformat": 4
 },
 "nbformat": 4,
 "nbformat_minor": 2
}
