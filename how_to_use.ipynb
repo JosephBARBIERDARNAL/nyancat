{
 "cells": [
  {
   "cell_type": "code",
   "execution_count": 1,
   "metadata": {},
   "outputs": [],
   "source": [
    "import numpy as np\n",
    "import matplotlib.pyplot as plt\n",
    "def save_cmap(cmap, name):\n",
    "      gradient = np.linspace(0, 1, 256)\n",
    "      gradient = np.vstack((gradient, gradient))\n",
    "   \n",
    "      fig, ax = plt.subplots(figsize=(6, 1))\n",
    "      ax.imshow(gradient, aspect='auto', cmap=cmap)\n",
    "      ax.set_axis_off()\n",
    "   \n",
    "      fig.savefig('{}.png'.format(name), bbox_inches='tight', pad_inches=0)\n",
    "      plt.close(fig)"
   ]
  },
  {
   "cell_type": "code",
   "execution_count": 2,
   "metadata": {},
   "outputs": [
    {
     "data": {
      "image/png": "[encoded data removed]",
      "text/html": [
       "<div style=\"vertical-align: middle;\"><strong>Chaetodon_sedentarius</strong> </div><div class=\"cmap\"><img alt=\"Chaetodon_sedentarius colormap\" title=\"Chaetodon_sedentarius\" style=\"border: 1px solid #555;\" src=\"data:image/png;base64,iVBORw0KGgoAAAANSUhEUgAAAgAAAABACAYAAABsv8+/AAAAJHRFWHRUaXRsZQBDaGFldG9kb25fc2VkZW50YXJpdXMgY29sb3JtYXAojfuEAAAAKnRFWHREZXNjcmlwdGlvbgBDaGFldG9kb25fc2VkZW50YXJpdXMgY29sb3JtYXA/dwERAAAAMHRFWHRBdXRob3IATWF0cGxvdGxpYiB2My45LjAsIGh0dHBzOi8vbWF0cGxvdGxpYi5vcmfx/+MOAAAAMnRFWHRTb2Z0d2FyZQBNYXRwbG90bGliIHYzLjkuMCwgaHR0cHM6Ly9tYXRwbG90bGliLm9yZ99ZfCkAAAFKSURBVHic7dYxDgFAAABBdCohEo1HaV2v8zKf5AOndZKdecGWu32M8d7wl8b9tTqBievxuTqBif3ptjqBifPhsjqBL3arAwCA3zMAABBkAAAgyAAAQJABAIAgAwAAQQYAAIIMAAAEGQAACDIAABBkAAAgyAAAQJABAIAgAwAAQQYAAIIMAAAEGQAACDIAABBkAAAgyAAAQJABAIAgAwAAQQYAAIIMAAAEGQAACDIAABBkAAAgyAAAQJABAIAgAwAAQQYAAIIMAAAEGQAACDIAABBkAAAgyAAAQJABAIAgAwAAQQYAAIIMAAAEGQAACDIAABBkAAAgyAAAQJABAIAgAwAAQQYAAIIMAAAEGQAACDIAABBkAAAgyAAAQJABAIAgAwAAQQYAAIIMAAAEGQAACDIAABBkAAAgyAAAQJABAIAgAwAAQQYAAII+NU8FM7FnIIUAAAAASUVORK5CYII=\"></div><div style=\"vertical-align: middle; max-width: 514px; display: flex; justify-content: space-between;\"><div style=\"float: left;\"><div title=\"#655a5aff\" style=\"display: inline-block; width: 1em; height: 1em; margin: 0; vertical-align: middle; border: 1px solid #555; background-color: #655a5aff;\"></div> under</div><div style=\"margin: 0 auto; display: inline-block;\">bad <div title=\"#00000000\" style=\"display: inline-block; width: 1em; height: 1em; margin: 0; vertical-align: middle; border: 1px solid #555; background-color: #00000000;\"></div></div><div style=\"float: right;\">over <div title=\"#f8e5d7ff\" style=\"display: inline-block; width: 1em; height: 1em; margin: 0; vertical-align: middle; border: 1px solid #555; background-color: #f8e5d7ff;\"></div></div>"
      ],
      "text/plain": [
       "<matplotlib.colors.ListedColormap at 0x1177ebf70>"
      ]
     },
     "execution_count": 2,
     "metadata": {},
     "output_type": "execute_result"
    }
   ],
   "source": [
    "from pypalettes import load_cmap\n",
    "\n",
    "cmap = load_cmap('Chaetodon_sedentarius')\n",
    "save_cmap(cmap, 'images/simple')\n",
    "cmap"
   ]
  },
  {
   "cell_type": "code",
   "execution_count": 3,
   "metadata": {},
   "outputs": [
    {
     "data": {
      "image/png": "[encoded data removed]",
      "text/html": [
       "<div style=\"vertical-align: middle;\"><strong>Chaetodon_sedentarius</strong> </div><div class=\"cmap\"><img alt=\"Chaetodon_sedentarius colormap\" title=\"Chaetodon_sedentarius\" style=\"border: 1px solid #555;\" src=\"data:image/png;base64,iVBORw0KGgoAAAANSUhEUgAAAgAAAABACAYAAABsv8+/AAAAJHRFWHRUaXRsZQBDaGFldG9kb25fc2VkZW50YXJpdXMgY29sb3JtYXAojfuEAAAAKnRFWHREZXNjcmlwdGlvbgBDaGFldG9kb25fc2VkZW50YXJpdXMgY29sb3JtYXA/dwERAAAAMHRFWHRBdXRob3IATWF0cGxvdGxpYiB2My45LjAsIGh0dHBzOi8vbWF0cGxvdGxpYi5vcmfx/+MOAAAAMnRFWHRTb2Z0d2FyZQBNYXRwbG90bGliIHYzLjkuMCwgaHR0cHM6Ly9tYXRwbG90bGliLm9yZ99ZfCkAAAIVSURBVHic7dYxcqQwFEVRiWU6n/3vwHbQDF189bfs8tQk75zAGCFAqDq488/b28cYY8z5Ph7HjzHGGMdRzs/jrOPHOX7e/5xXxq/zv897v81rn1/Gfz7v6/XVdXx3fdf5Zn37eeV9zb62+13W3e532a/6vDGO8zjPv+f5PM7zeZv3vF7m//K+a/6s42V9y/XuvvL+2Xxnc/3b6573+d26dt9bv3O77u0+77533q7X38Forq/3lfub6+v+lmNzfd3ff3Xf6+v/e1+292/2rd3Xzfc/33f3/F2O+/xlYjN+Pf/1eP+eMl5uW8avZdTxsq71n3I2Xx3W+e1zfvYd7X4u+9asd/72Ox7nxwAA4ggAAAgkAAAgkAAAgEACAAACCQAACCQAACCQAACAQAIAAAIJAAAIJAAAIJAAAIBAAgAAAgkAAAgkAAAgkAAAgEACAAACCQAACCQAACCQAACAQAIAAAIJAAAIJAAAIJAAAIBAAgAAAgkAAAgkAAAgkAAAgEACAAACCQAACCQAACCQAACAQAIAAAIJAAAIJAAAIJAAAIBAAgAAAgkAAAgkAAAgkAAAgEACAAACCQAACCQAACCQAACAQAIAAAIJAAAIJAAAIJAAAIBAAgAAAgkAAAgkAAAgkAAAgEACAAACCQAACCQAACCQAACAQAIAAAIJAAAIJAAAIJAAAIBAAgAAAgkAAAgkAAAg0CdGPEQztuDTjAAAAABJRU5ErkJggg==\"></div><div style=\"vertical-align: middle; max-width: 514px; display: flex; justify-content: space-between;\"><div style=\"float: left;\"><div title=\"#655a5aff\" style=\"display: inline-block; width: 1em; height: 1em; margin: 0; vertical-align: middle; border: 1px solid #555; background-color: #655a5aff;\"></div> under</div><div style=\"margin: 0 auto; display: inline-block;\">bad <div title=\"#00000000\" style=\"display: inline-block; width: 1em; height: 1em; margin: 0; vertical-align: middle; border: 1px solid #555; background-color: #00000000;\"></div></div><div style=\"float: right;\">over <div title=\"#f8e5d7ff\" style=\"display: inline-block; width: 1em; height: 1em; margin: 0; vertical-align: middle; border: 1px solid #555; background-color: #f8e5d7ff;\"></div></div>"
      ],
      "text/plain": [
       "<matplotlib.colors.LinearSegmentedColormap at 0x115544b50>"
      ]
     },
     "execution_count": 3,
     "metadata": {},
     "output_type": "execute_result"
    }
   ],
   "source": [
    "from pypalettes import load_cmap\n",
    "\n",
    "cmap = load_cmap('Chaetodon_sedentarius', type='continuous')\n",
    "save_cmap(cmap, 'images/continuous')\n",
    "cmap"
   ]
  },
  {
   "cell_type": "code",
   "execution_count": 4,
   "metadata": {},
   "outputs": [
    {
     "data": {
      "image/png": "[encoded data removed]",
      "text/html": [
       "<div style=\"vertical-align: middle;\"><strong>Chaetodon_sedentarius</strong> </div><div class=\"cmap\"><img alt=\"Chaetodon_sedentarius colormap\" title=\"Chaetodon_sedentarius\" style=\"border: 1px solid #555;\" src=\"data:image/png;base64,iVBORw0KGgoAAAANSUhEUgAAAgAAAABACAYAAABsv8+/AAAAJHRFWHRUaXRsZQBDaGFldG9kb25fc2VkZW50YXJpdXMgY29sb3JtYXAojfuEAAAAKnRFWHREZXNjcmlwdGlvbgBDaGFldG9kb25fc2VkZW50YXJpdXMgY29sb3JtYXA/dwERAAAAMHRFWHRBdXRob3IATWF0cGxvdGxpYiB2My45LjAsIGh0dHBzOi8vbWF0cGxvdGxpYi5vcmfx/+MOAAAAMnRFWHRTb2Z0d2FyZQBNYXRwbG90bGliIHYzLjkuMCwgaHR0cHM6Ly9tYXRwbG90bGliLm9yZ99ZfCkAAAFNSURBVHic7daxDUFRAEBRDGkyM9DaxgIUEiG/omOBp/Uk95wJbnnXr8vpveIv3Zbr7AQGnvfj7AQGzo/d7AQG9oft7AS+2MwOAAB+zwAAQJABAIAgAwAAQQYAAIIMAAAEGQAACDIAABBkAAAgyAAAQJABAIAgAwAAQQYAAIIMAAAEGQAACDIAABBkAAAgyAAAQJABAIAgAwAAQQYAAIIMAAAEGQAACDIAABBkAAAgyAAAQJABAIAgAwAAQQYAAIIMAAAEGQAACDIAABBkAAAgyAAAQJABAIAgAwAAQQYAAIIMAAAEGQAACDIAABBkAAAgyAAAQJABAIAgAwAAQQYAAIIMAAAEGQAACDIAABBkAAAgyAAAQJABAIAgAwAAQQYAAIIMAAAEGQAACDIAABBkAAAgyAAAQJABAIAgAwAAQQYAAIIMAAAEGQAACPoAEh0NmBB+4x4AAAAASUVORK5CYII=\"></div><div style=\"vertical-align: middle; max-width: 514px; display: flex; justify-content: space-between;\"><div style=\"float: left;\"><div title=\"#f8e5d7ff\" style=\"display: inline-block; width: 1em; height: 1em; margin: 0; vertical-align: middle; border: 1px solid #555; background-color: #f8e5d7ff;\"></div> under</div><div style=\"margin: 0 auto; display: inline-block;\">bad <div title=\"#00000000\" style=\"display: inline-block; width: 1em; height: 1em; margin: 0; vertical-align: middle; border: 1px solid #555; background-color: #00000000;\"></div></div><div style=\"float: right;\">over <div title=\"#655a5aff\" style=\"display: inline-block; width: 1em; height: 1em; margin: 0; vertical-align: middle; border: 1px solid #555; background-color: #655a5aff;\"></div></div>"
      ],
      "text/plain": [
       "<matplotlib.colors.ListedColormap at 0x1250616c0>"
      ]
     },
     "execution_count": 4,
     "metadata": {},
     "output_type": "execute_result"
    }
   ],
   "source": [
    "from pypalettes import load_cmap\n",
    "\n",
    "cmap = load_cmap('Chaetodon_sedentarius', reverse=True)\n",
    "save_cmap(cmap, 'images/reverse')\n",
    "cmap"
   ]
  },
  {
   "cell_type": "code",
   "execution_count": 5,
   "metadata": {},
   "outputs": [
    {
     "data": {
      "image/png": "[encoded data removed]",
      "text/html": [
       "<div style=\"vertical-align: middle;\"><strong>Chaetodon_sedentarius</strong> </div><div class=\"cmap\"><img alt=\"Chaetodon_sedentarius colormap\" title=\"Chaetodon_sedentarius\" style=\"border: 1px solid #555;\" src=\"data:image/png;base64,iVBORw0KGgoAAAANSUhEUgAAAgAAAABACAYAAABsv8+/AAAAJHRFWHRUaXRsZQBDaGFldG9kb25fc2VkZW50YXJpdXMgY29sb3JtYXAojfuEAAAAKnRFWHREZXNjcmlwdGlvbgBDaGFldG9kb25fc2VkZW50YXJpdXMgY29sb3JtYXA/dwERAAAAMHRFWHRBdXRob3IATWF0cGxvdGxpYiB2My45LjAsIGh0dHBzOi8vbWF0cGxvdGxpYi5vcmfx/+MOAAAAMnRFWHRTb2Z0d2FyZQBNYXRwbG90bGliIHYzLjkuMCwgaHR0cHM6Ly9tYXRwbG90bGliLm9yZ99ZfCkAAAIcSURBVHic7dY7VuUwEEVR0/OfHyNgDh1JBDxBu+TCfFZHd+8AsGxZskjO09+X53kcxzHnPM7mPz/3P+rTx2zG1/P7i8rVvLp9zH3genxbp9nv3XeUfWz7W1f7Qud9/fI7PtZpxvcHrvfbrrOmz/Pz779Hef/595yjmbcWvL7/sV4z/+Z+O3/b52jmfe371v32fNrv/+m8m3P97+fy2Pc2v46v6+5+/Y4y/n7u5T11/eb+fr51XlnnZl93+97W7/Y9m+/88vdez6vn/NN52//1cT3G0+M1599j/CnX6/7n4/v7rsfHes9Y14/7dd0y/v3nynrdeN3Hzf5GOa9uf/fPXe9vO+9mf9t5N+vW/+ea//YTAIgiAAAgkAAAgEACAAACCQAACCQAACCQAACAQAIAAAIJAAAIJAAAIJAAAIBAAgAAAgkAAAgkAAAgkAAAgEACAAACCQAACCQAACCQAACAQAIAAAIJAAAIJAAAIJAAAIBAAgAAAgkAAAgkAAAgkAAAgEACAAACCQAACCQAACCQAACAQAIAAAIJAAAIJAAAIJAAAIBAAgAAAgkAAAgkAAAgkAAAgEACAAACCQAACCQAACCQAACAQAIAAAIJAAAIJAAAIJAAAIBAAgAAAgkAAAgkAAAgkAAAgEACAAACCQAACCQAACCQAACAQAIAAAIJAAAIJAAAIJAAAIBAAgAAAgkAAAgkAAAgkAAAgECvOIOEp1uNim0AAAAASUVORK5CYII=\"></div><div style=\"vertical-align: middle; max-width: 514px; display: flex; justify-content: space-between;\"><div style=\"float: left;\"><div title=\"#f8e5d7ff\" style=\"display: inline-block; width: 1em; height: 1em; margin: 0; vertical-align: middle; border: 1px solid #555; background-color: #f8e5d7ff;\"></div> under</div><div style=\"margin: 0 auto; display: inline-block;\">bad <div title=\"#00000000\" style=\"display: inline-block; width: 1em; height: 1em; margin: 0; vertical-align: middle; border: 1px solid #555; background-color: #00000000;\"></div></div><div style=\"float: right;\">over <div title=\"#655a5aff\" style=\"display: inline-block; width: 1em; height: 1em; margin: 0; vertical-align: middle; border: 1px solid #555; background-color: #655a5aff;\"></div></div>"
      ],
      "text/plain": [
       "<matplotlib.colors.LinearSegmentedColormap at 0x1252dabc0>"
      ]
     },
     "execution_count": 5,
     "metadata": {},
     "output_type": "execute_result"
    }
   ],
   "source": [
    "from pypalettes import load_cmap\n",
    "\n",
    "cmap = load_cmap('Chaetodon_sedentarius', reverse=True, type='continuous')\n",
    "save_cmap(cmap, 'images/continuous_reverse')\n",
    "cmap"
   ]
  },
  {
   "cell_type": "code",
   "execution_count": 6,
   "metadata": {},
   "outputs": [
    {
     "data": {
      "image/png": "[encoded data removed]",
      "text/html": [
       "<div style=\"vertical-align: middle;\"><strong>Chaetodon_sedentarius</strong> </div><div class=\"cmap\"><img alt=\"Chaetodon_sedentarius colormap\" title=\"Chaetodon_sedentarius\" style=\"border: 1px solid #555;\" src=\"data:image/png;base64,iVBORw0KGgoAAAANSUhEUgAAAgAAAABACAYAAABsv8+/AAAAJHRFWHRUaXRsZQBDaGFldG9kb25fc2VkZW50YXJpdXMgY29sb3JtYXAojfuEAAAAKnRFWHREZXNjcmlwdGlvbgBDaGFldG9kb25fc2VkZW50YXJpdXMgY29sb3JtYXA/dwERAAAAMHRFWHRBdXRob3IATWF0cGxvdGxpYiB2My45LjAsIGh0dHBzOi8vbWF0cGxvdGxpYi5vcmfx/+MOAAAAMnRFWHRTb2Z0d2FyZQBNYXRwbG90bGliIHYzLjkuMCwgaHR0cHM6Ly9tYXRwbG90bGliLm9yZ99ZfCkAAAE9SURBVHic7dYxEYNAAADBEEl0SOF7zGEHQURCUuWHuV0FV95yjHG/4AHGfs5OgK+29ZqdAD95zw4AAP7PAABAkAEAgCADAABBBgAAggwAAAQZAAAIMgAAEGQAACDIAABAkAEAgCADAABBBgAAggwAAAQZAAAIMgAAEGQAACDIAABAkAEAgCADAABBBgAAggwAAAQZAAAIMgAAEGQAACDIAABAkAEAgCADAABBBgAAggwAAAQZAAAIMgAAEGQAACDIAABAkAEAgCADAABBBgAAggwAAAQZAAAIMgAAEGQAACDIAABAkAEAgCADAABBBgAAggwAAAQZAAAIMgAAEGQAACDIAABAkAEAgCADAABBBgAAggwAAAQZAAAIMgAAEGQAACDIAABAkAEAgCADAABBBgAAggwAAAQZAAAI+gCB+gUzi3L6/AAAAABJRU5ErkJggg==\"></div><div style=\"vertical-align: middle; max-width: 514px; display: flex; justify-content: space-between;\"><div style=\"float: left;\"><div title=\"#655a5aff\" style=\"display: inline-block; width: 1em; height: 1em; margin: 0; vertical-align: middle; border: 1px solid #555; background-color: #655a5aff;\"></div> under</div><div style=\"margin: 0 auto; display: inline-block;\">bad <div title=\"#00000000\" style=\"display: inline-block; width: 1em; height: 1em; margin: 0; vertical-align: middle; border: 1px solid #555; background-color: #00000000;\"></div></div><div style=\"float: right;\">over <div title=\"#f8e5d7ff\" style=\"display: inline-block; width: 1em; height: 1em; margin: 0; vertical-align: middle; border: 1px solid #555; background-color: #f8e5d7ff;\"></div></div>"
      ],
      "text/plain": [
       "<matplotlib.colors.ListedColormap at 0x1252da830>"
      ]
     },
     "execution_count": 6,
     "metadata": {},
     "output_type": "execute_result"
    }
   ],
   "source": [
    "from pypalettes import load_cmap\n",
    "\n",
    "cmap = load_cmap('Chaetodon_sedentarius', keep=[True, True, False, False, True])\n",
    "save_cmap(cmap, 'images/keep')\n",
    "cmap"
   ]
  },
  {
   "cell_type": "code",
   "execution_count": 7,
   "metadata": {},
   "outputs": [
    {
     "data": {
      "image/png": "[encoded data removed]",
      "text/html": [
       "<div style=\"vertical-align: middle;\"><strong>Chaetodon_sedentarius</strong> </div><div class=\"cmap\"><img alt=\"Chaetodon_sedentarius colormap\" title=\"Chaetodon_sedentarius\" style=\"border: 1px solid #555;\" src=\"data:image/png;base64,iVBORw0KGgoAAAANSUhEUgAAAgAAAABACAYAAABsv8+/AAAAJHRFWHRUaXRsZQBDaGFldG9kb25fc2VkZW50YXJpdXMgY29sb3JtYXAojfuEAAAAKnRFWHREZXNjcmlwdGlvbgBDaGFldG9kb25fc2VkZW50YXJpdXMgY29sb3JtYXA/dwERAAAAMHRFWHRBdXRob3IATWF0cGxvdGxpYiB2My45LjAsIGh0dHBzOi8vbWF0cGxvdGxpYi5vcmfx/+MOAAAAMnRFWHRTb2Z0d2FyZQBNYXRwbG90bGliIHYzLjkuMCwgaHR0cHM6Ly9tYXRwbG90bGliLm9yZ99ZfCkAAAE8SURBVHic7dYxEYNAAADBEAf0GON7OpRhkkhIqvwwt6vgyluOMe4XPMDYr9kJ8NW2nrMT4Cfv2QEAwP8ZAAAIMgAAEGQAACDIAABAkAEAgCADAABBBgAAggwAAAQZAAAIMgAAEGQAACDIAABAkAEAgCADAABBBgAAggwAAAQZAAAIMgAAEGQAACDIAABAkAEAgCADAABBBgAAggwAAAQZAAAIMgAAEGQAACDIAABAkAEAgCADAABBBgAAggwAAAQZAAAIMgAAEGQAACDIAABAkAEAgCADAABBBgAAggwAAAQZAAAIMgAAEGQAACDIAABAkAEAgCADAABBBgAAggwAAAQZAAAIMgAAEGQAACDIAABAkAEAgCADAABBBgAAggwAAAQZAAAIMgAAEGQAACDIAABAkAEAgCADAABBH7ZJBI6L4c92AAAAAElFTkSuQmCC\"></div><div style=\"vertical-align: middle; max-width: 514px; display: flex; justify-content: space-between;\"><div style=\"float: left;\"><div title=\"#655a5aff\" style=\"display: inline-block; width: 1em; height: 1em; margin: 0; vertical-align: middle; border: 1px solid #555; background-color: #655a5aff;\"></div> under</div><div style=\"margin: 0 auto; display: inline-block;\">bad <div title=\"#00000000\" style=\"display: inline-block; width: 1em; height: 1em; margin: 0; vertical-align: middle; border: 1px solid #555; background-color: #00000000;\"></div></div><div style=\"float: right;\">over <div title=\"#dbc470ff\" style=\"display: inline-block; width: 1em; height: 1em; margin: 0; vertical-align: middle; border: 1px solid #555; background-color: #dbc470ff;\"></div></div>"
      ],
      "text/plain": [
       "<matplotlib.colors.ListedColormap at 0x125294ca0>"
      ]
     },
     "execution_count": 7,
     "metadata": {},
     "output_type": "execute_result"
    }
   ],
   "source": [
    "from pypalettes import load_cmap\n",
    "\n",
    "cmap = load_cmap('Chaetodon_sedentarius', keep_first_n=3)\n",
    "save_cmap(cmap, 'images/keep_first_n')\n",
    "cmap"
   ]
  },
  {
   "cell_type": "code",
   "execution_count": 8,
   "metadata": {},
   "outputs": [
    {
     "data": {
      "image/png": "[encoded data removed]",
      "text/html": [
       "<div style=\"vertical-align: middle;\"><strong>random</strong> </div><div class=\"cmap\"><img alt=\"random colormap\" title=\"random\" style=\"border: 1px solid #555;\" src=\"data:image/png;base64,iVBORw0KGgoAAAANSUhEUgAAAgAAAABACAYAAABsv8+/AAAAFXRFWHRUaXRsZQByYW5kb20gY29sb3JtYXBEHaefAAAAG3RFWHREZXNjcmlwdGlvbgByYW5kb20gY29sb3JtYXANir97AAAAMHRFWHRBdXRob3IATWF0cGxvdGxpYiB2My45LjAsIGh0dHBzOi8vbWF0cGxvdGxpYi5vcmfx/+MOAAAAMnRFWHRTb2Z0d2FyZQBNYXRwbG90bGliIHYzLjkuMCwgaHR0cHM6Ly9tYXRwbG90bGliLm9yZ99ZfCkAAAFVSURBVHic7daxDQFQAABRJKISpU4iGp0omMEC9h9DJSwhfvLvvQmuvOXxcP0s+Ln9ejs6YTr792t0wnSem/PohOmc7rvRCdO5PG6jE6a0Gh0AAPyfAQCAIAMAAEEGAACCDAAABBkAAAgyAAAQZAAAIMgAAECQAQCAIAMAAEEGAACCDAAABBkAAAgyAAAQZAAAIMgAAECQAQCAIAMAAEEGAACCDAAABBkAAAgyAAAQZAAAIMgAAECQAQCAIAMAAEEGAACCDAAABBkAAAgyAAAQZAAAIMgAAECQAQCAIAMAAEEGAACCDAAABBkAAAgyAAAQZAAAIMgAAECQAQCAIAMAAEEGAACCDAAABBkAAAgyAAAQZAAAIMgAAECQAQCAIAMAAEEGAACCDAAABBkAAAgyAAAQZAAAIMgAAECQAQCAIAMAAEEGAACCDAAABBkAAAgyAAAQ9AWWKgW7GslghQAAAABJRU5ErkJggg==\"></div><div style=\"vertical-align: middle; max-width: 514px; display: flex; justify-content: space-between;\"><div style=\"float: left;\"><div title=\"#211e31ff\" style=\"display: inline-block; width: 1em; height: 1em; margin: 0; vertical-align: middle; border: 1px solid #555; background-color: #211e31ff;\"></div> under</div><div style=\"margin: 0 auto; display: inline-block;\">bad <div title=\"#00000000\" style=\"display: inline-block; width: 1em; height: 1em; margin: 0; vertical-align: middle; border: 1px solid #555; background-color: #00000000;\"></div></div><div style=\"float: right;\">over <div title=\"#f6a5a1ff\" style=\"display: inline-block; width: 1em; height: 1em; margin: 0; vertical-align: middle; border: 1px solid #555; background-color: #f6a5a1ff;\"></div></div>"
      ],
      "text/plain": [
       "<matplotlib.colors.ListedColormap at 0x107d73850>"
      ]
     },
     "execution_count": 8,
     "metadata": {},
     "output_type": "execute_result"
    }
   ],
   "source": [
    "from pypalettes import load_cmap\n",
    "\n",
    "cmap = load_cmap()\n",
    "save_cmap(cmap, 'images/random')\n",
    "cmap"
   ]
  },
  {
   "cell_type": "code",
   "execution_count": 9,
   "metadata": {},
   "outputs": [
    {
     "name": "stdout",
     "output_type": "stream",
     "text": [
      "First color (rgba): (0.996078431372549, 0.8431372549019608, 0.5372549019607843, 1.0)\n",
      "Second color (rgba): (0.00784313725490196, 0.21568627450980393, 0.2627450980392157, 1.0)\n",
      "Third color (rgba): (0.4470588235294118, 0.5294117647058824, 0.3058823529411765, 1.0)\n",
      "Fourth color (rgba): (0.2784313725490196, 0.43529411764705883, 0.5176470588235295, 1.0)\n",
      "Fifth color (rgba): (0.6431372549019608, 0.7450980392156863, 0.8352941176470589, 1.0)\n",
      "Sixth color (rgba): (0.27058823529411763, 0.2235294117647059, 0.2784313725490196, 1.0)\n",
      "Seventh color (rgba): (0.27058823529411763, 0.2235294117647059, 0.2784313725490196, 1.0)\n",
      "Eighth color (rgba): (0.27058823529411763, 0.2235294117647059, 0.2784313725490196, 1.0)\n",
      "\n",
      "Once you start calling colors above the number of colors in the palette, it will start repeating the colors:\n",
      "cmap(6) == cmap(7): True\n"
     ]
    }
   ],
   "source": [
    "from pypalettes import load_cmap\n",
    "\n",
    "cmap = load_cmap(\"Acadia\")\n",
    "\n",
    "print(f'First color (rgba): {cmap(0)}')\n",
    "print(f'Second color (rgba): {cmap(1)}')\n",
    "print(f'Third color (rgba): {cmap(2)}')\n",
    "print(f'Fourth color (rgba): {cmap(3)}')  \n",
    "print(f'Fifth color (rgba): {cmap(4)}')\n",
    "print(f'Sixth color (rgba): {cmap(5)}')\n",
    "print(f'Seventh color (rgba): {cmap(6)}')\n",
    "print(f'Eighth color (rgba): {cmap(7)}')\n",
    "\n",
    "print()\n",
    "print('Once you start calling colors above the number of colors in the palette, it will start repeating the colors:')\n",
    "print(f'cmap(6) == cmap(7): {cmap(6) == cmap(7)}')"
   ]
  },
  {
   "cell_type": "code",
   "execution_count": 10,
   "metadata": {},
   "outputs": [
    {
     "data": {
      "text/plain": [
       "'The R package: {khroma}'"
      ]
     },
     "execution_count": 10,
     "metadata": {},
     "output_type": "execute_result"
    }
   ],
   "source": [
    "# find where a palette comes from\n",
    "from pypalettes import get_source\n",
    "get_source('bilbao')"
   ]
  },
  {
   "cell_type": "code",
   "execution_count": 16,
   "metadata": {},
   "outputs": [
    {
     "data": {
      "text/plain": [
       "['#7098C0FF',\n",
       " '#88C0E8FF',\n",
       " '#285880FF',\n",
       " '#B8E0F8FF',\n",
       " '#F8F8F8FF',\n",
       " '#404060FF',\n",
       " '#A8A8A8FF',\n",
       " '#C8C8D0FF',\n",
       " '#B04000FF']"
      ]
     },
     "execution_count": 16,
     "metadata": {},
     "output_type": "execute_result"
    }
   ],
   "source": [
    "# get a list of hex colors from a palette\n",
    "from pypalettes import get_hex\n",
    "get_hex('pupitar')"
   ]
  },
  {
   "cell_type": "code",
   "execution_count": 17,
   "metadata": {},
   "outputs": [
    {
     "data": {
      "text/plain": [
       "'qualitative'"
      ]
     },
     "execution_count": 17,
     "metadata": {},
     "output_type": "execute_result"
    }
   ],
   "source": [
    "# get a string that describes the kind of palette\n",
    "from pypalettes import get_kind\n",
    "get_kind('pupitar')"
   ]
  },
  {
   "cell_type": "code",
   "execution_count": 18,
   "metadata": {},
   "outputs": [
    {
     "data": {
      "text/plain": [
       "[(255, 153, 51),\n",
       " (194, 72, 65),\n",
       " (255, 255, 51),\n",
       " (139, 91, 69),\n",
       " (135, 175, 209),\n",
       " (238, 176, 90),\n",
       " (219, 197, 160)]"
      ]
     },
     "execution_count": 18,
     "metadata": {},
     "output_type": "execute_result"
    }
   ],
   "source": [
    "# get a list of rgb colors from a palette\n",
    "from pypalettes import get_rgb\n",
    "get_rgb('AirNomads')"
   ]
  },
  {
   "cell_type": "code",
   "execution_count": 19,
   "metadata": {},
   "outputs": [
    {
     "data": {
      "image/png": "[encoded data removed]",
      "text/plain": [
       "<Figure size 640x480 with 2 Axes>"
      ]
     },
     "metadata": {},
     "output_type": "display_data"
    }
   ],
   "source": [
    "# use a palette for a heatmap\n",
    "\n",
    "import matplotlib.pyplot as plt\n",
    "import seaborn as sns\n",
    "from pypalettes import load_cmap\n",
    "import numpy as np\n",
    "\n",
    "data = np.random.rand(10, 12)\n",
    "\n",
    "cmap = load_cmap('Anemone')\n",
    "\n",
    "sns.heatmap(data, cmap=cmap)\n",
    "plt.savefig('images/heatmap.png', dpi=300, bbox_inches='tight')\n",
    "plt.show()"
   ]
  },
  {
   "cell_type": "code",
   "execution_count": 20,
   "metadata": {},
   "outputs": [
    {
     "ename": "ValueError",
     "evalue": "Palette with name 'colwarm' not found. Did you mean: 'coolwarm'?\nSee available palettes at https://python-graph-gallery.com/color-palette-finder/",
     "output_type": "error",
     "traceback": [
      "\u001b[0;31m---------------------------------------------------------------------------\u001b[0m",
      "\u001b[0;31mValueError\u001b[0m                                Traceback (most recent call last)",
      "Cell \u001b[0;32mIn[20], line 3\u001b[0m\n\u001b[1;32m      1\u001b[0m \u001b[38;5;66;03m# check our pypalettes handle name errors\u001b[39;00m\n\u001b[1;32m      2\u001b[0m \u001b[38;5;28;01mfrom\u001b[39;00m \u001b[38;5;21;01mpypalettes\u001b[39;00m \u001b[38;5;28;01mimport\u001b[39;00m load_cmap\n\u001b[0;32m----> 3\u001b[0m cmap \u001b[38;5;241m=\u001b[39m \u001b[43mload_cmap\u001b[49m\u001b[43m(\u001b[49m\u001b[38;5;124;43m'\u001b[39;49m\u001b[38;5;124;43mcolwarm\u001b[39;49m\u001b[38;5;124;43m'\u001b[39;49m\u001b[43m)\u001b[49m\n\u001b[1;32m      4\u001b[0m cmap\n",
      "File \u001b[0;32m~/Desktop/pypalettes/pypalettes/main.py:120\u001b[0m, in \u001b[0;36mload_cmap\u001b[0;34m(name, type, reverse, keep_first_n, keep)\u001b[0m\n\u001b[1;32m    118\u001b[0m \u001b[38;5;28mtype\u001b[39m \u001b[38;5;241m=\u001b[39m \u001b[38;5;28mtype\u001b[39m\u001b[38;5;241m.\u001b[39mlower()\n\u001b[1;32m    119\u001b[0m palettes \u001b[38;5;241m=\u001b[39m _load_palettes()\n\u001b[0;32m--> 120\u001b[0m hex_list, _, _ \u001b[38;5;241m=\u001b[39m \u001b[43m_get_palette\u001b[49m\u001b[43m(\u001b[49m\u001b[43mpalettes\u001b[49m\u001b[43m,\u001b[49m\u001b[43m \u001b[49m\u001b[43mname\u001b[49m\u001b[43m,\u001b[49m\u001b[43m \u001b[49m\u001b[43mreverse\u001b[49m\u001b[43m,\u001b[49m\u001b[43m \u001b[49m\u001b[43mkeep_first_n\u001b[49m\u001b[43m,\u001b[49m\u001b[43m \u001b[49m\u001b[43mkeep\u001b[49m\u001b[43m)\u001b[49m\n\u001b[1;32m    122\u001b[0m \u001b[38;5;28;01mif\u001b[39;00m \u001b[38;5;28mtype\u001b[39m \u001b[38;5;241m==\u001b[39m \u001b[38;5;124m'\u001b[39m\u001b[38;5;124mcontinuous\u001b[39m\u001b[38;5;124m'\u001b[39m:\n\u001b[1;32m    123\u001b[0m     cmap \u001b[38;5;241m=\u001b[39m LinearSegmentedColormap\u001b[38;5;241m.\u001b[39mfrom_list(name\u001b[38;5;241m=\u001b[39m\u001b[38;5;124mf\u001b[39m\u001b[38;5;124m'\u001b[39m\u001b[38;5;132;01m{\u001b[39;00mname\u001b[38;5;132;01m}\u001b[39;00m\u001b[38;5;124m'\u001b[39m, colors\u001b[38;5;241m=\u001b[39mhex_list)\n",
      "File \u001b[0;32m~/Desktop/pypalettes/pypalettes/main.py:59\u001b[0m, in \u001b[0;36m_get_palette\u001b[0;34m(palettes, name, reverse, keep_first_n, keep)\u001b[0m\n\u001b[1;32m     57\u001b[0m     \u001b[38;5;28;01mif\u001b[39;00m name \u001b[38;5;129;01mnot\u001b[39;00m \u001b[38;5;129;01min\u001b[39;00m palettes\u001b[38;5;241m.\u001b[39mindex:\n\u001b[1;32m     58\u001b[0m         suggestions \u001b[38;5;241m=\u001b[39m get_close_matches(name, palettes\u001b[38;5;241m.\u001b[39mindex, n\u001b[38;5;241m=\u001b[39m\u001b[38;5;241m1\u001b[39m, cutoff\u001b[38;5;241m=\u001b[39m\u001b[38;5;241m0.1\u001b[39m)\n\u001b[0;32m---> 59\u001b[0m         \u001b[38;5;28;01mraise\u001b[39;00m \u001b[38;5;167;01mValueError\u001b[39;00m(\n\u001b[1;32m     60\u001b[0m             \u001b[38;5;124mf\u001b[39m\u001b[38;5;124m\"\u001b[39m\u001b[38;5;124mPalette with name \u001b[39m\u001b[38;5;124m'\u001b[39m\u001b[38;5;132;01m{\u001b[39;00mname\u001b[38;5;132;01m}\u001b[39;00m\u001b[38;5;124m'\u001b[39m\u001b[38;5;124m not found. Did you mean: \u001b[39m\u001b[38;5;124m'\u001b[39m\u001b[38;5;132;01m{\u001b[39;00m\u001b[38;5;124m'\u001b[39m\u001b[38;5;124m, \u001b[39m\u001b[38;5;124m'\u001b[39m\u001b[38;5;241m.\u001b[39mjoin(suggestions)\u001b[38;5;132;01m}\u001b[39;00m\u001b[38;5;124m'\u001b[39m\u001b[38;5;124m?\u001b[39m\u001b[38;5;130;01m\\n\u001b[39;00m\u001b[38;5;124m\"\u001b[39m\n\u001b[1;32m     61\u001b[0m             \u001b[38;5;124m\"\u001b[39m\u001b[38;5;124mSee available palettes at https://python-graph-gallery.com/color-palette-finder/\u001b[39m\u001b[38;5;124m\"\u001b[39m\n\u001b[1;32m     62\u001b[0m         )\n\u001b[1;32m     63\u001b[0m     palette \u001b[38;5;241m=\u001b[39m palettes\u001b[38;5;241m.\u001b[39mloc[name]\n\u001b[1;32m     65\u001b[0m \u001b[38;5;28;01mtry\u001b[39;00m:\n",
      "\u001b[0;31mValueError\u001b[0m: Palette with name 'colwarm' not found. Did you mean: 'coolwarm'?\nSee available palettes at https://python-graph-gallery.com/color-palette-finder/"
     ]
    }
   ],
   "source": [
    "# check our pypalettes handle name errors\n",
    "from pypalettes import load_cmap\n",
    "cmap = load_cmap('colwarm')\n",
    "cmap"
   ]
  }
 ],
 "metadata": {
  "kernelspec": {
   "display_name": "venv",
   "language": "python",
   "name": "python3"
  },
  "language_info": {
   "codemirror_mode": {
    "name": "ipython",
    "version": 3
   },
   "file_extension": ".py",
   "mimetype": "text/x-python",
   "name": "python",
   "nbconvert_exporter": "python",
   "pygments_lexer": "ipython3",
   "version": "3.10.13"
  },
  "orig_nbformat": 4
 },
 "nbformat": 4,
 "nbformat_minor": 2
}
