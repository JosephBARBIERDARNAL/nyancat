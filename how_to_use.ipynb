{
 "cells": [
  {
   "cell_type": "code",
   "execution_count": 1,
   "metadata": {},
   "outputs": [
    {
     "data": {
      "image/png": "[encoded data removed]",
      "text/html": [
       "<div style=\"vertical-align: middle;\"><strong>Degas</strong> </div><div class=\"cmap\"><img alt=\"Degas colormap\" title=\"Degas\" style=\"border: 1px solid #555;\" src=\"data:image/png;base64,iVBORw0KGgoAAAANSUhEUgAAAgAAAABACAYAAABsv8+/AAAAFHRFWHRUaXRsZQBEZWdhcyBjb2xvcm1hcKl2Sb4AAAAadEVYdERlc2NyaXB0aW9uAERlZ2FzIGNvbG9ybWFwVyngWAAAADB0RVh0QXV0aG9yAE1hdHBsb3RsaWIgdjMuOS4wLCBodHRwczovL21hdHBsb3RsaWIub3Jn8f/jDgAAADJ0RVh0U29mdHdhcmUATWF0cGxvdGxpYiB2My45LjAsIGh0dHBzOi8vbWF0cGxvdGxpYi5vcmffWXwpAAABYklEQVR4nO3Wsa2BYQBA0ecVYgmd5J/CDGrdiwlsaAqJ0KrEDmzwSt8v95wJbnkX+/Xy9cO/tpvV6ITZ2x2m0QmzdzzdRyfM3nP6G53wFR6X8+iEWbvebqMTvsLv6AAA4PMMAAAEGQAACDIAABBkAAAgyAAAQJABAIAgAwAAQQYAAIIMAAAEGQAACDIAABBkAAAgyAAAQJABAIAgAwAAQQYAAIIMAAAEGQAACDIAABBkAAAgyAAAQJABAIAgAwAAQQYAAIIMAAAEGQAACDIAABBkAAAgyAAAQJABAIAgAwAAQQYAAIIMAAAEGQAACDIAABBkAAAgyAAAQJABAIAgAwAAQQYAAIIMAAAEGQAACDIAABBkAAAgyAAAQJABAIAgAwAAQQYAAIIMAAAEGQAACDIAABBkAAAgyAAAQJABAIAgAwAAQQYAAIIMAAAEGQAACDIAABBkAAAgyAAAQJABAICgN7qVC+lnEKshAAAAAElFTkSuQmCC\"></div><div style=\"vertical-align: middle; max-width: 514px; display: flex; justify-content: space-between;\"><div style=\"float: left;\"><div title=\"#591d06ff\" style=\"display: inline-block; width: 1em; height: 1em; margin: 0; vertical-align: middle; border: 1px solid #555; background-color: #591d06ff;\"></div> under</div><div style=\"margin: 0 auto; display: inline-block;\">bad <div title=\"#00000000\" style=\"display: inline-block; width: 1em; height: 1em; margin: 0; vertical-align: middle; border: 1px solid #555; background-color: #00000000;\"></div></div><div style=\"float: right;\">over <div title=\"#053c29ff\" style=\"display: inline-block; width: 1em; height: 1em; margin: 0; vertical-align: middle; border: 1px solid #555; background-color: #053c29ff;\"></div></div>"
      ],
      "text/plain": [
       "<matplotlib.colors.ListedColormap at 0x103316b00>"
      ]
     },
     "execution_count": 1,
     "metadata": {},
     "output_type": "execute_result"
    }
   ],
   "source": [
    "from purrpalette import PurrPalette\n",
    "\n",
    "purr = PurrPalette()\n",
    "cmap = purr.load_cmap('Degas', type='qualitative')\n",
    "cmap"
   ]
  },
  {
   "cell_type": "code",
   "execution_count": 2,
   "metadata": {},
   "outputs": [
    {
     "data": {
      "image/png": "[encoded data removed]",
      "text/html": [
       "<div style=\"vertical-align: middle;\"><strong>Darjeeling2</strong> </div><div class=\"cmap\"><img alt=\"Darjeeling2 colormap\" title=\"Darjeeling2\" style=\"border: 1px solid #555;\" src=\"data:image/png;base64,iVBORw0KGgoAAAANSUhEUgAAAgAAAABACAYAAABsv8+/AAAAGnRFWHRUaXRsZQBEYXJqZWVsaW5nMiBjb2xvcm1hcI2+7uIAAAAgdEVYdERlc2NyaXB0aW9uAERhcmplZWxpbmcyIGNvbG9ybWFwHKCqtAAAADB0RVh0QXV0aG9yAE1hdHBsb3RsaWIgdjMuOS4wLCBodHRwczovL21hdHBsb3RsaWIub3Jn8f/jDgAAADJ0RVh0U29mdHdhcmUATWF0cGxvdGxpYiB2My45LjAsIGh0dHBzOi8vbWF0cGxvdGxpYi5vcmffWXwpAAACEElEQVR4nO3WzXGDMBRG0Yed/ktJI2klJfCTBXIygBUcZ7z6ztkwEgLJjBd3+Px4X6qqxnmpqqpxvdQ0Vxu3+Tae2v1n1/+Mt+t/nq/d88tu/W2/V5/39/Pt9//reXvru/s//N3ur++da27zb7Ver8P2+jasD1y799u45vvz3/c7793dPzy3W/fXcx7P8dg5D+c72f92zv757u9/vL97X/d897/P2Xfcn28YhqqqWoZLrROXzXgZrp352/prZ377/OPzT+57efH7n/xdL//d/3z/NK//i3kc1/E0tevY5rfjqY3n27rdc4f3tPHD60/2PT/Xk+u75/3fvqfnetV3PFvfru1fAgAkEQAAEEgAAEAgAQAAgQQAAAQSAAAQSAAAQCABAACBBAAABBIAABBIAABAIAEAAIEEAAAEEgAAEEgAAEAgAQAAgQQAAAQSAAAQSAAAQCABAACBBAAABBIAABBIAABAIAEAAIEEAAAEEgAAEEgAAEAgAQAAgQQAAAQSAAAQSAAAQCABAACBBAAABBIAABBIAABAIAEAAIEEAAAEEgAAEEgAAEAgAQAAgQQAAAQSAAAQSAAAQCABAACBBAAABBIAABBIAABAIAEAAIEEAAAEEgAAEEgAAEAgAQAAgQQAAAQSAAAQSAAAQCABAACBBAAABBIAABBIAABAIAEAAIEEAAAEEgAAEEgAAECgLxDav47r3+GwAAAAAElFTkSuQmCC\"></div><div style=\"vertical-align: middle; max-width: 514px; display: flex; justify-content: space-between;\"><div style=\"float: left;\"><div title=\"#eccbaeff\" style=\"display: inline-block; width: 1em; height: 1em; margin: 0; vertical-align: middle; border: 1px solid #555; background-color: #eccbaeff;\"></div> under</div><div style=\"margin: 0 auto; display: inline-block;\">bad <div title=\"#00000000\" style=\"display: inline-block; width: 1em; height: 1em; margin: 0; vertical-align: middle; border: 1px solid #555; background-color: #00000000;\"></div></div><div style=\"float: right;\">over <div title=\"#000000ff\" style=\"display: inline-block; width: 1em; height: 1em; margin: 0; vertical-align: middle; border: 1px solid #555; background-color: #000000ff;\"></div></div>"
      ],
      "text/plain": [
       "<matplotlib.colors.LinearSegmentedColormap at 0x103316c80>"
      ]
     },
     "execution_count": 2,
     "metadata": {},
     "output_type": "execute_result"
    }
   ],
   "source": [
    "from purrpalette import PurrPalette\n",
    "\n",
    "purr = PurrPalette()\n",
    "cmap = purr.load_cmap('Darjeeling2', type='continuous')\n",
    "cmap"
   ]
  },
  {
   "cell_type": "code",
   "execution_count": 4,
   "metadata": {},
   "outputs": [
    {
     "data": {
      "image/png": "[encoded data removed]",
      "text/html": [
       "<div style=\"vertical-align: middle;\"><strong>random</strong> </div><div class=\"cmap\"><img alt=\"random colormap\" title=\"random\" style=\"border: 1px solid #555;\" src=\"data:image/png;base64,iVBORw0KGgoAAAANSUhEUgAAAgAAAABACAYAAABsv8+/AAAAFXRFWHRUaXRsZQByYW5kb20gY29sb3JtYXBEHaefAAAAG3RFWHREZXNjcmlwdGlvbgByYW5kb20gY29sb3JtYXANir97AAAAMHRFWHRBdXRob3IATWF0cGxvdGxpYiB2My45LjAsIGh0dHBzOi8vbWF0cGxvdGxpYi5vcmfx/+MOAAAAMnRFWHRTb2Z0d2FyZQBNYXRwbG90bGliIHYzLjkuMCwgaHR0cHM6Ly9tYXRwbG90bGliLm9yZ99ZfCkAAAHySURBVHic7dZbTsMwAEVBO10Kq2TVrCAJH00q1cV5UQmkO/NjOcauUxA69evzYy6llKkO5T3j7Wk+//a84ba5fv787fNOn7tzv/PnXzvv5dyD95rLfXyY27E+z0vneTPW0lvvnbd9bv+8Zt/J96g771Euvkf33Ivv0T+vc5+D38u6Oix/BkOdl3FZX+dD87yZP/YNzb7m+Tqv67723M7nPfZ17rn+fH25T+/53n2273n8Pkfv2d7n53173//x38t9Pk1TKaWUcbo/H8dlPjbzy+vLOHX2ve1z/sn60ff94/VpeY/mvz8AkEAAAEAgAQAAgQQAAAQSAAAQSAAAQCABAACBBAAABBIAABBIAABAIAEAAIEEAAAEEgAAEEgAAEAgAQAAgQQAAAQSAAAQSAAAQCABAACBBAAABBIAABBIAABAIAEAAIEEAAAEEgAAEEgAAEAgAQAAgQQAAAQSAAAQSAAAQCABAACBBAAABBIAABBIAABAIAEAAIEEAAAEEgAAEEgAAEAgAQAAgQQAAAQSAAAQSAAAQCABAACBBAAABBIAABBIAABAIAEAAIEEAAAEEgAAEEgAAEAgAQAAgQQAAAQSAAAQSAAAQCABAACBBAAABBIAABBIAABAIAEAAIEEAAAEEgAAEEgAAEAgAQAAgb4BH91XHhxZTSIAAAAASUVORK5CYII=\"></div><div style=\"vertical-align: middle; max-width: 514px; display: flex; justify-content: space-between;\"><div style=\"float: left;\"><div title=\"#ef7923ff\" style=\"display: inline-block; width: 1em; height: 1em; margin: 0; vertical-align: middle; border: 1px solid #555; background-color: #ef7923ff;\"></div> under</div><div style=\"margin: 0 auto; display: inline-block;\">bad <div title=\"#00000000\" style=\"display: inline-block; width: 1em; height: 1em; margin: 0; vertical-align: middle; border: 1px solid #555; background-color: #00000000;\"></div></div><div style=\"float: right;\">over <div title=\"#2a2e38ff\" style=\"display: inline-block; width: 1em; height: 1em; margin: 0; vertical-align: middle; border: 1px solid #555; background-color: #2a2e38ff;\"></div></div>"
      ],
      "text/plain": [
       "<matplotlib.colors.LinearSegmentedColormap at 0x106843a60>"
      ]
     },
     "execution_count": 4,
     "metadata": {},
     "output_type": "execute_result"
    }
   ],
   "source": [
    "from purrpalette import PurrPalette\n",
    "\n",
    "purr = PurrPalette()\n",
    "cmap = purr.load_cmap()\n",
    "cmap"
   ]
  },
  {
   "cell_type": "code",
   "execution_count": 27,
   "metadata": {},
   "outputs": [
    {
     "data": {
      "text/plain": [
       "'The R package: {khroma}'"
      ]
     },
     "execution_count": 27,
     "metadata": {},
     "output_type": "execute_result"
    }
   ],
   "source": [
    "from purrpalette import PurrPalette\n",
    "\n",
    "purr = PurrPalette()\n",
    "purr.source('bilbao')"
   ]
  },
  {
   "cell_type": "code",
   "execution_count": 3,
   "metadata": {},
   "outputs": [
    {
     "data": {
      "text/plain": [
       "['#000000', '#14213D', '#FCA311', '#E5E5E5', '#FFFFFF']"
      ]
     },
     "execution_count": 3,
     "metadata": {},
     "output_type": "execute_result"
    }
   ],
   "source": [
    "from purrpalette import PurrPalette\n",
    "\n",
    "purr = PurrPalette()\n",
    "purr.hex('42e4b0')"
   ]
  },
  {
   "cell_type": "code",
   "execution_count": 1,
   "metadata": {},
   "outputs": [
    {
     "data": {
      "text/plain": [
       "[(255, 153, 51),\n",
       " (194, 72, 65),\n",
       " (255, 255, 51),\n",
       " (139, 91, 69),\n",
       " (135, 175, 209),\n",
       " (238, 176, 90),\n",
       " (219, 197, 160)]"
      ]
     },
     "execution_count": 1,
     "metadata": {},
     "output_type": "execute_result"
    }
   ],
   "source": [
    "from purrpalette import PurrPalette\n",
    "\n",
    "purr = PurrPalette()\n",
    "purr.rgb('AirNomads')"
   ]
  }
 ],
 "metadata": {
  "kernelspec": {
   "display_name": "venv",
   "language": "python",
   "name": "python3"
  },
  "language_info": {
   "codemirror_mode": {
    "name": "ipython",
    "version": 3
   },
   "file_extension": ".py",
   "mimetype": "text/x-python",
   "name": "python",
   "nbconvert_exporter": "python",
   "pygments_lexer": "ipython3",
   "version": "3.10.13"
  },
  "orig_nbformat": 4
 },
 "nbformat": 4,
 "nbformat_minor": 2
}
