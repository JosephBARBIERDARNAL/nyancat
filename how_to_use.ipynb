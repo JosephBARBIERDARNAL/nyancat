{
 "cells": [
  {
   "cell_type": "code",
   "execution_count": 29,
   "metadata": {},
   "outputs": [
    {
     "data": {
      "image/png": "[encoded data removed]",
      "text/html": [
       "<div style=\"vertical-align: middle;\"><strong>dark</strong> </div><div class=\"cmap\"><img alt=\"dark colormap\" title=\"dark\" style=\"border: 1px solid #555;\" src=\"data:image/png;base64,iVBORw0KGgoAAAANSUhEUgAAAgAAAABACAYAAABsv8+/AAAAE3RFWHRUaXRsZQBkYXJrIGNvbG9ybWFwJCPLNgAAABl0RVh0RGVzY3JpcHRpb24AZGFyayBjb2xvcm1hcK+RW64AAAAwdEVYdEF1dGhvcgBNYXRwbG90bGliIHYzLjkuMCwgaHR0cHM6Ly9tYXRwbG90bGliLm9yZ/H/4w4AAAAydEVYdFNvZnR3YXJlAE1hdHBsb3RsaWIgdjMuOS4wLCBodHRwczovL21hdHBsb3RsaWIub3Jn31l8KQAAAUtJREFUeJzt1kERAkEQBEHAwVlYC1jAwslGCxLAxAUTsZWpoB/9qPta5/fG9Z7TA3b0nh6wnddxTE/Yj5te7rPW9IQtPaYHAAD/JwAAIEgAAECQAACAIAEAAEECAACCBAAABAkAAAgSAAAQJAAAIEgAAECQAACAIAEAAEECAACCBAAABAkAAAgSAAAQJAAAIEgAAECQAACAIAEAAEECAACCBAAABAkAAAgSAAAQJAAAIEgAAECQAACAIAEAAEECAACCBAAABAkAAAgSAAAQJAAAIEgAAECQAACAIAEAAEECAACCBAAABAkAAAgSAAAQJAAAIEgAAECQAACAIAEAAEECAACCBAAABAkAAAgSAAAQJAAAIEgAAECQAACAIAEAAEECAACCBAAABAkAAAgSAAAQJAAAIEgAAECQAACAIAEAAEECAACCBAAABP0AoEcFfu2L8kMAAAAASUVORK5CYII=\"></div><div style=\"vertical-align: middle; max-width: 514px; display: flex; justify-content: space-between;\"><div style=\"float: left;\"><div title=\"#222255ff\" style=\"display: inline-block; width: 1em; height: 1em; margin: 0; vertical-align: middle; border: 1px solid #555; background-color: #222255ff;\"></div> under</div><div style=\"margin: 0 auto; display: inline-block;\">bad <div title=\"#00000000\" style=\"display: inline-block; width: 1em; height: 1em; margin: 0; vertical-align: middle; border: 1px solid #555; background-color: #00000000;\"></div></div><div style=\"float: right;\">over <div title=\"#555555ff\" style=\"display: inline-block; width: 1em; height: 1em; margin: 0; vertical-align: middle; border: 1px solid #555; background-color: #555555ff;\"></div></div>"
      ],
      "text/plain": [
       "<matplotlib.colors.ListedColormap at 0x14b4e0430>"
      ]
     },
     "execution_count": 29,
     "metadata": {},
     "output_type": "execute_result"
    }
   ],
   "source": [
    "from pypalettes import pypalettes\n",
    "purr = pypalettes()\n",
    "cmap = purr.load_cmap('dark')\n",
    "cmap"
   ]
  },
  {
   "cell_type": "code",
   "execution_count": 22,
   "metadata": {},
   "outputs": [
    {
     "data": {
      "image/png": "[encoded data removed]",
      "text/html": [
       "<div style=\"vertical-align: middle;\"><strong>Darjeeling2</strong> </div><div class=\"cmap\"><img alt=\"Darjeeling2 colormap\" title=\"Darjeeling2\" style=\"border: 1px solid #555;\" src=\"data:image/png;base64,iVBORw0KGgoAAAANSUhEUgAAAgAAAABACAYAAABsv8+/AAAAGnRFWHRUaXRsZQBEYXJqZWVsaW5nMiBjb2xvcm1hcI2+7uIAAAAgdEVYdERlc2NyaXB0aW9uAERhcmplZWxpbmcyIGNvbG9ybWFwHKCqtAAAADB0RVh0QXV0aG9yAE1hdHBsb3RsaWIgdjMuOS4wLCBodHRwczovL21hdHBsb3RsaWIub3Jn8f/jDgAAADJ0RVh0U29mdHdhcmUATWF0cGxvdGxpYiB2My45LjAsIGh0dHBzOi8vbWF0cGxvdGxpYi5vcmffWXwpAAACEElEQVR4nO3WzXGDMBRG0Yed/ktJI2klJfCTBXIygBUcZ7z6ztkwEgLJjBd3+Px4X6qqxnmpqqpxvdQ0Vxu3+Tae2v1n1/+Mt+t/nq/d88tu/W2/V5/39/Pt9//reXvru/s//N3ur++da27zb7Ver8P2+jasD1y799u45vvz3/c7793dPzy3W/fXcx7P8dg5D+c72f92zv757u9/vL97X/d897/P2Xfcn28YhqqqWoZLrROXzXgZrp352/prZ377/OPzT+57efH7n/xdL//d/3z/NK//i3kc1/E0tevY5rfjqY3n27rdc4f3tPHD60/2PT/Xk+u75/3fvqfnetV3PFvfru1fAgAkEQAAEEgAAEAgAQAAgQQAAAQSAAAQSAAAQCABAACBBAAABBIAABBIAABAIAEAAIEEAAAEEgAAEEgAAEAgAQAAgQQAAAQSAAAQSAAAQCABAACBBAAABBIAABBIAABAIAEAAIEEAAAEEgAAEEgAAEAgAQAAgQQAAAQSAAAQSAAAQCABAACBBAAABBIAABBIAABAIAEAAIEEAAAEEgAAEEgAAEAgAQAAgQQAAAQSAAAQSAAAQCABAACBBAAABBIAABBIAABAIAEAAIEEAAAEEgAAEEgAAEAgAQAAgQQAAAQSAAAQSAAAQCABAACBBAAABBIAABBIAABAIAEAAIEEAAAEEgAAEEgAAECgLxDav47r3+GwAAAAAElFTkSuQmCC\"></div><div style=\"vertical-align: middle; max-width: 514px; display: flex; justify-content: space-between;\"><div style=\"float: left;\"><div title=\"#eccbaeff\" style=\"display: inline-block; width: 1em; height: 1em; margin: 0; vertical-align: middle; border: 1px solid #555; background-color: #eccbaeff;\"></div> under</div><div style=\"margin: 0 auto; display: inline-block;\">bad <div title=\"#00000000\" style=\"display: inline-block; width: 1em; height: 1em; margin: 0; vertical-align: middle; border: 1px solid #555; background-color: #00000000;\"></div></div><div style=\"float: right;\">over <div title=\"#000000ff\" style=\"display: inline-block; width: 1em; height: 1em; margin: 0; vertical-align: middle; border: 1px solid #555; background-color: #000000ff;\"></div></div>"
      ],
      "text/plain": [
       "<matplotlib.colors.LinearSegmentedColormap at 0x14b3a3d90>"
      ]
     },
     "execution_count": 22,
     "metadata": {},
     "output_type": "execute_result"
    }
   ],
   "source": [
    "from pypalettes import pypalettes\n",
    "\n",
    "purr = pypalettes()\n",
    "cmap = purr.load_cmap('Darjeeling2', type='continuous')\n",
    "cmap"
   ]
  },
  {
   "cell_type": "code",
   "execution_count": 23,
   "metadata": {},
   "outputs": [
    {
     "data": {
      "image/png": "[encoded data removed]",
      "text/html": [
       "<div style=\"vertical-align: middle;\"><strong>miltank</strong> </div><div class=\"cmap\"><img alt=\"miltank colormap\" title=\"miltank\" style=\"border: 1px solid #555;\" src=\"data:image/png;base64,iVBORw0KGgoAAAANSUhEUgAAAgAAAABACAYAAABsv8+/AAAAFnRFWHRUaXRsZQBtaWx0YW5rIGNvbG9ybWFwy1I/7wAAABx0RVh0RGVzY3JpcHRpb24AbWlsdGFuayBjb2xvcm1hcGx8jpYAAAAwdEVYdEF1dGhvcgBNYXRwbG90bGliIHYzLjkuMCwgaHR0cHM6Ly9tYXRwbG90bGliLm9yZ/H/4w4AAAAydEVYdFNvZnR3YXJlAE1hdHBsb3RsaWIgdjMuOS4wLCBodHRwczovL21hdHBsb3RsaWIub3Jn31l8KQAAAaVJREFUeJzt1qFxFVAURdEDCpkSkEjkl5QRiYykhMiUgYyMRCIjv6QEJDIOuuD9mb1WBWfe3Hmz3709f/+7G/Hrej09Ydv29cfP0xO2ba8vD6cnbNs+Xp5OT9i2ffv86fSEbdv17u70hG3bw5e30xO2bZcbuY/n6+vpCdu2P6+Ppyds2+7v709P2LbdXR5PT9i2fbiN59jL79v417ft/ekBAMD/JwAAIEgAAECQAACAIAEAAEECAACCBAAABAkAAAgSAAAQJAAAIEgAAECQAACAIAEAAEECAACCBAAABAkAAAgSAAAQJAAAIEgAAECQAACAIAEAAEECAACCBAAABAkAAAgSAAAQJAAAIEgAAECQAACAIAEAAEECAACCBAAABAkAAAgSAAAQJAAAIEgAAECQAACAIAEAAEECAACCBAAABAkAAAgSAAAQJAAAIEgAAECQAACAIAEAAEECAACCBAAABAkAAAgSAAAQJAAAIEgAAECQAACAIAEAAEECAACCBAAABAkAAAgSAAAQJAAAIEgAAECQAACAIAEAAEECAACCBAAABP0Dw+cXx4fkU00AAAAASUVORK5CYII=\"></div><div style=\"vertical-align: middle; max-width: 514px; display: flex; justify-content: space-between;\"><div style=\"float: left;\"><div title=\"#f8a8a0ff\" style=\"display: inline-block; width: 1em; height: 1em; margin: 0; vertical-align: middle; border: 1px solid #555; background-color: #f8a8a0ff;\"></div> under</div><div style=\"margin: 0 auto; display: inline-block;\">bad <div title=\"#00000000\" style=\"display: inline-block; width: 1em; height: 1em; margin: 0; vertical-align: middle; border: 1px solid #555; background-color: #00000000;\"></div></div><div style=\"float: right;\">over <div title=\"#b03860ff\" style=\"display: inline-block; width: 1em; height: 1em; margin: 0; vertical-align: middle; border: 1px solid #555; background-color: #b03860ff;\"></div></div>"
      ],
      "text/plain": [
       "<matplotlib.colors.ListedColormap at 0x14b3d7ca0>"
      ]
     },
     "execution_count": 23,
     "metadata": {},
     "output_type": "execute_result"
    }
   ],
   "source": [
    "from pypalettes import pypalettes\n",
    "\n",
    "purr = pypalettes()\n",
    "cmap = purr.load_cmap()\n",
    "cmap"
   ]
  },
  {
   "cell_type": "code",
   "execution_count": 24,
   "metadata": {},
   "outputs": [
    {
     "data": {
      "text/plain": [
       "'The R package: {khroma}'"
      ]
     },
     "execution_count": 24,
     "metadata": {},
     "output_type": "execute_result"
    }
   ],
   "source": [
    "from pypalettes import pypalettes\n",
    "\n",
    "purr = pypalettes()\n",
    "purr.source('bilbao')"
   ]
  },
  {
   "cell_type": "code",
   "execution_count": 25,
   "metadata": {},
   "outputs": [
    {
     "data": {
      "text/plain": [
       "['#7098C0FF',\n",
       " '#88C0E8FF',\n",
       " '#285880FF',\n",
       " '#B8E0F8FF',\n",
       " '#F8F8F8FF',\n",
       " '#404060FF',\n",
       " '#A8A8A8FF',\n",
       " '#C8C8D0FF',\n",
       " '#B04000FF']"
      ]
     },
     "execution_count": 25,
     "metadata": {},
     "output_type": "execute_result"
    }
   ],
   "source": [
    "from pypalettes import pypalettes\n",
    "\n",
    "purr = pypalettes()\n",
    "purr.hex('pupitar')"
   ]
  },
  {
   "cell_type": "code",
   "execution_count": 26,
   "metadata": {},
   "outputs": [
    {
     "data": {
      "text/plain": [
       "[(255, 153, 51),\n",
       " (194, 72, 65),\n",
       " (255, 255, 51),\n",
       " (139, 91, 69),\n",
       " (135, 175, 209),\n",
       " (238, 176, 90),\n",
       " (219, 197, 160)]"
      ]
     },
     "execution_count": 26,
     "metadata": {},
     "output_type": "execute_result"
    }
   ],
   "source": [
    "from pypalettes import pypalettes\n",
    "\n",
    "purr = pypalettes()\n",
    "purr.rgb('AirNomads')"
   ]
  },
  {
   "cell_type": "code",
   "execution_count": 27,
   "metadata": {},
   "outputs": [
    {
     "data": {
      "image/png": "[encoded data removed]",
      "text/plain": [
       "<Figure size 640x480 with 2 Axes>"
      ]
     },
     "metadata": {},
     "output_type": "display_data"
    }
   ],
   "source": [
    "import matplotlib.pyplot as plt\n",
    "import seaborn as sns\n",
    "from pypalettes import pypalettes\n",
    "import numpy as np\n",
    "\n",
    "data = np.random.rand(10, 12)\n",
    "\n",
    "purr = pypalettes()\n",
    "cmap = purr.load_cmap('Anemone')\n",
    "\n",
    "sns.heatmap(data, cmap=cmap)\n",
    "plt.savefig('images/heatmap.png', dpi=300, bbox_inches='tight')\n",
    "plt.show()"
   ]
  }
 ],
 "metadata": {
  "kernelspec": {
   "display_name": "venv",
   "language": "python",
   "name": "python3"
  },
  "language_info": {
   "codemirror_mode": {
    "name": "ipython",
    "version": 3
   },
   "file_extension": ".py",
   "mimetype": "text/x-python",
   "name": "python",
   "nbconvert_exporter": "python",
   "pygments_lexer": "ipython3",
   "version": "3.10.13"
  },
  "orig_nbformat": 4
 },
 "nbformat": 4,
 "nbformat_minor": 2
}
