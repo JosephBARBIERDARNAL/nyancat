{
 "cells": [
  {
   "cell_type": "code",
   "execution_count": 2,
   "metadata": {},
   "outputs": [
    {
     "data": {
      "image/png": "[encoded data removed]",
      "text/html": [
       "<div style=\"vertical-align: middle;\"><strong>Stegastes_variabilis</strong> </div><div class=\"cmap\"><img alt=\"Stegastes_variabilis colormap\" title=\"Stegastes_variabilis\" style=\"border: 1px solid #555;\" src=\"data:image/png;base64,iVBORw0KGgoAAAANSUhEUgAAAgAAAABACAYAAABsv8+/AAAAI3RFWHRUaXRsZQBTdGVnYXN0ZXNfdmFyaWFiaWxpcyBjb2xvcm1hcBYkj/EAAAApdEVYdERlc2NyaXB0aW9uAFN0ZWdhc3Rlc192YXJpYWJpbGlzIGNvbG9ybWFwW2BZbwAAADB0RVh0QXV0aG9yAE1hdHBsb3RsaWIgdjMuOS4wLCBodHRwczovL21hdHBsb3RsaWIub3Jn8f/jDgAAADJ0RVh0U29mdHdhcmUATWF0cGxvdGxpYiB2My45LjAsIGh0dHBzOi8vbWF0cGxvdGxpYi5vcmffWXwpAAAB7klEQVR4nO3WQVbCMBiF0b+Ulbgh978N5zQOCnIIRAqiDt69A3KaNmnK6Jve3z5aVVWrQ63jcjlOo/nT9Xq/BvPXz3f3j/O1+b235+vJ936tH8z/3//w3Hnu/w+Hm8/vd62qqubjuO/G8/z6/DyP7t+7Xh58vruevz/vy987X65//L2n643r523nftV7p2kd19+zVt18u7xu3XPVz7d+39vrN+97td/tc473Hazfum8bfOfLv3/bOYf73jlnv++yTOvY5stx2W2bX073n5xfuv1H81fn+en6X/rOv/o/XvSd6ywAEEUAAEAgAQAAgQQAAAQSAAAQSAAAQCABAACBBAAABBIAABBIAABAIAEAAIEEAAAEEgAAEEgAAEAgAQAAgQQAAAQSAAAQSAAAQCABAACBBAAABBIAABBIAABAIAEAAIEEAAAEEgAAEEgAAEAgAQAAgQQAAAQSAAAQSAAAQCABAACBBAAABBIAABBIAABAIAEAAIEEAAAEEgAAEEgAAEAgAQAAgQQAAAQSAAAQSAAAQCABAACBBAAABBIAABBIAABAIAEAAIEEAAAEEgAAEEgAAEAgAQAAgQQAAAQSAAAQSAAAQCABAACBBAAABBIAABBIAABAIAEAAIEEAAAEEgAAEEgAAEAgAQAAgT4B8QaJ2WtV11gAAAAASUVORK5CYII=\"></div><div style=\"vertical-align: middle; max-width: 514px; display: flex; justify-content: space-between;\"><div style=\"float: left;\"><div title=\"#4f22f2ff\" style=\"display: inline-block; width: 1em; height: 1em; margin: 0; vertical-align: middle; border: 1px solid #555; background-color: #4f22f2ff;\"></div> under</div><div style=\"margin: 0 auto; display: inline-block;\">bad <div title=\"#00000000\" style=\"display: inline-block; width: 1em; height: 1em; margin: 0; vertical-align: middle; border: 1px solid #555; background-color: #00000000;\"></div></div><div style=\"float: right;\">over <div title=\"#4a57aaff\" style=\"display: inline-block; width: 1em; height: 1em; margin: 0; vertical-align: middle; border: 1px solid #555; background-color: #4a57aaff;\"></div></div>"
      ],
      "text/plain": [
       "<matplotlib.colors.LinearSegmentedColormap at 0x127f6ba90>"
      ]
     },
     "execution_count": 2,
     "metadata": {},
     "output_type": "execute_result"
    }
   ],
   "source": [
    "from purrpalette import PurrPalette\n",
    "\n",
    "purr = PurrPalette()\n",
    "cmap = purr.load_cmap('Stegastes_variabilis')\n",
    "cmap"
   ]
  },
  {
   "cell_type": "code",
   "execution_count": 1,
   "metadata": {},
   "outputs": [
    {
     "data": {
      "text/plain": [
       "'The R package: {khroma}'"
      ]
     },
     "execution_count": 1,
     "metadata": {},
     "output_type": "execute_result"
    }
   ],
   "source": [
    "from purrpalette import PurrPalette\n",
    "\n",
    "purr = PurrPalette()\n",
    "purr.source('bilbao')"
   ]
  }
 ],
 "metadata": {
  "kernelspec": {
   "display_name": "venv",
   "language": "python",
   "name": "python3"
  },
  "language_info": {
   "codemirror_mode": {
    "name": "ipython",
    "version": 3
   },
   "file_extension": ".py",
   "mimetype": "text/x-python",
   "name": "python",
   "nbconvert_exporter": "python",
   "pygments_lexer": "ipython3",
   "version": "3.10.13"
  },
  "orig_nbformat": 4
 },
 "nbformat": 4,
 "nbformat_minor": 2
}
